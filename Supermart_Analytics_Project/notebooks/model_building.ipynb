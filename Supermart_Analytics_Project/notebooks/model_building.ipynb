{
 "cells": [
  {
   "cell_type": "code",
   "execution_count": 2,
   "metadata": {},
   "outputs": [
    {
     "name": "stdout",
     "output_type": "stream",
     "text": [
      "✅ Available Columns: ['Order_ID', 'Customer_Name', 'Category', 'Sub_Category', 'City', 'Order_Date', 'Region', 'Sales', 'Discount', 'Profit', 'State', 'Month', 'Order_Year']\n",
      "✅ Data Split Completed\n",
      "✅ Model Training Completed\n",
      "📉 Mean Squared Error: 211276.5081733436\n",
      "📊 R-squared Score: 0.3684277378738583\n",
      "✅ Model Building Completed!\n"
     ]
    }
   ],
   "source": [
    "import pandas as pd\n",
    "from sklearn.model_selection import train_test_split\n",
    "from sklearn.linear_model import LinearRegression\n",
    "from sklearn.preprocessing import StandardScaler\n",
    "from sklearn.metrics import mean_squared_error, r2_score\n",
    "\n",
    "# Load cleaned data (adjust path if necessary)\n",
    "data = pd.read_csv('../data/cleaned_supermart_data.csv')\n",
    "print(\"✅ Available Columns:\", data.columns.tolist())\n",
    "\n",
    "# Prepare features and target\n",
    "# Drop non-numeric and non-relevant columns: Order_ID, Customer_Name, Order_Date, Sales, Month\n",
    "features = data.drop(columns=['Order_ID', 'Customer_Name', 'Order_Date', 'Sales', 'Month'])\n",
    "target = data['Sales']\n",
    "\n",
    "# Train-Test Split\n",
    "X_train, X_test, y_train, y_test = train_test_split(features, target, test_size=0.2, random_state=42)\n",
    "print(\"✅ Data Split Completed\")\n",
    "\n",
    "# Feature Scaling\n",
    "scaler = StandardScaler()\n",
    "X_train = scaler.fit_transform(X_train)\n",
    "X_test = scaler.transform(X_test)\n",
    "\n",
    "# Train the Linear Regression Model\n",
    "model = LinearRegression()\n",
    "model.fit(X_train, y_train)\n",
    "print(\"✅ Model Training Completed\")\n",
    "\n",
    "# Make Predictions and Evaluate the Model\n",
    "y_pred = model.predict(X_test)\n",
    "mse = mean_squared_error(y_test, y_pred)\n",
    "r2 = r2_score(y_test, y_pred)\n",
    "print(f\"📉 Mean Squared Error: {mse}\")\n",
    "print(f\"📊 R-squared Score: {r2}\")\n",
    "print(\"✅ Model Building Completed!\")\n"
   ]
  }
 ],
 "metadata": {
  "kernelspec": {
   "display_name": "Python 3",
   "language": "python",
   "name": "python3"
  },
  "language_info": {
   "codemirror_mode": {
    "name": "ipython",
    "version": 3
   },
   "file_extension": ".py",
   "mimetype": "text/x-python",
   "name": "python",
   "nbconvert_exporter": "python",
   "pygments_lexer": "ipython3",
   "version": "3.12.3"
  }
 },
 "nbformat": 4,
 "nbformat_minor": 2
}
