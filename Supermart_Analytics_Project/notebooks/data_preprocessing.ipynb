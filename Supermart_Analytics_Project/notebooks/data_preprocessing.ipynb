{
 "cells": [
  {
   "cell_type": "code",
   "execution_count": 1,
   "metadata": {},
   "outputs": [
    {
     "name": "stdout",
     "output_type": "stream",
     "text": [
      "Current Working Directory: d:\\project1\\Supermart_Analytics_Project\\notebooks\n",
      "✅ Raw Data Overview:\n",
      "  Order ID Customer Name          Category      Sub Category         City  \\\n",
      "0      OD1        Harish      Oil & Masala           Masalas      Vellore   \n",
      "1      OD2         Sudha         Beverages     Health Drinks  Krishnagiri   \n",
      "2      OD3       Hussain       Food Grains      Atta & Flour   Perambalur   \n",
      "3      OD4       Jackson  Fruits & Veggies  Fresh Vegetables   Dharmapuri   \n",
      "4      OD5       Ridhesh       Food Grains   Organic Staples         Ooty   \n",
      "\n",
      "   Order Date Region  Sales  Discount  Profit       State  \n",
      "0  11-08-2017  North   1254      0.12  401.28  Tamil Nadu  \n",
      "1  11-08-2017  South    749      0.18  149.80  Tamil Nadu  \n",
      "2  06-12-2017   West   2360      0.21  165.20  Tamil Nadu  \n",
      "3  10-11-2016  South    896      0.25   89.60  Tamil Nadu  \n",
      "4  10-11-2016  South   2355      0.26  918.45  Tamil Nadu  \n",
      "\n",
      "✅ Standardized Columns:\n",
      "['Order_ID', 'Customer_Name', 'Category', 'Sub_Category', 'City', 'Order_Date', 'Region', 'Sales', 'Discount', 'Profit', 'State']\n",
      "\n",
      "✅ After Date Extraction:\n",
      "  Order_Date     Month  Order_Year\n",
      "0 2017-08-11    August        2017\n",
      "1 2017-08-11    August        2017\n",
      "2 2017-12-06  December        2017\n",
      "3 2016-11-10  November        2016\n",
      "4 2016-11-10  November        2016\n",
      "\n",
      "✅ Data Preprocessing Completed Successfully! Cleaned data saved to '../data/cleaned_supermart_data.csv'\n"
     ]
    }
   ],
   "source": [
    "# Cell 1: Import Libraries\n",
    "import pandas as pd\n",
    "from sklearn.preprocessing import LabelEncoder\n",
    "import os\n",
    "\n",
    "print(\"Current Working Directory:\", os.getcwd())\n",
    "\n",
    "# Cell 2: Load the Raw Dataset\n",
    "# Use a raw string (r'...') to avoid invalid escape sequences.\n",
    "data = pd.read_csv(r'../data/Supermart_Grocery_Sales.csv')\n",
    "print(\"✅ Raw Data Overview:\")\n",
    "print(data.head())\n",
    "\n",
    "# Cell 3: Standardize Column Names (remove extra spaces and commas)\n",
    "data.columns = data.columns.str.strip().str.replace(' ', '_').str.replace(',', '')\n",
    "print(\"\\n✅ Standardized Columns:\")\n",
    "print(data.columns.tolist())\n",
    "\n",
    "# Cell 4: Convert 'Order_Date' to datetime format\n",
    "data['Order_Date'] = pd.to_datetime(data['Order_Date'], errors='coerce', dayfirst=True)\n",
    "data.dropna(subset=['Order_Date'], inplace=True)  # drop rows with invalid dates\n",
    "\n",
    "# Cell 5: Extract Month (full name) and Year\n",
    "data['Month'] = data['Order_Date'].dt.strftime('%B')  # e.g., August, December\n",
    "data['Order_Year'] = data['Order_Date'].dt.year.astype('Int64')\n",
    "print(\"\\n✅ After Date Extraction:\")\n",
    "print(data[['Order_Date', 'Month', 'Order_Year']].head())\n",
    "\n",
    "# Cell 6: Handle Missing Values in Critical Columns\n",
    "data.dropna(subset=['Order_ID', 'Customer_Name', 'Sales'], inplace=True)\n",
    "\n",
    "# Cell 7: Encode Categorical Variables (except Month which is used as label for display)\n",
    "categorical_cols = ['Category', 'Sub_Category', 'City', 'Region', 'State']\n",
    "le = LabelEncoder()\n",
    "for col in categorical_cols:\n",
    "    data[col] = le.fit_transform(data[col])\n",
    "\n",
    "# Cell 8: Save the Cleaned Data\n",
    "data.to_csv('../data/cleaned_supermart_data.csv', index=False)\n",
    "print(\"\\n✅ Data Preprocessing Completed Successfully! Cleaned data saved to '../data/cleaned_supermart_data.csv'\")\n"
   ]
  },
  {
   "cell_type": "code",
   "execution_count": null,
   "metadata": {},
   "outputs": [],
   "source": []
  }
 ],
 "metadata": {
  "kernelspec": {
   "display_name": "Python 3",
   "language": "python",
   "name": "python3"
  },
  "language_info": {
   "codemirror_mode": {
    "name": "ipython",
    "version": 3
   },
   "file_extension": ".py",
   "mimetype": "text/x-python",
   "name": "python",
   "nbconvert_exporter": "python",
   "pygments_lexer": "ipython3",
   "version": "3.12.3"
  }
 },
 "nbformat": 4,
 "nbformat_minor": 2
}
